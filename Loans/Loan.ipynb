{
 "cells": [
  {
   "cell_type": "code",
   "execution_count": 1,
   "id": "f58563da",
   "metadata": {},
   "outputs": [],
   "source": [
    "import pandas as pd\n",
    "import numpy as np"
   ]
  },
  {
   "cell_type": "code",
   "execution_count": 2,
   "id": "fc1c84f1",
   "metadata": {},
   "outputs": [],
   "source": [
    "# load csv into dataframe\n",
    "loans = pd.read_csv('loans.csv')"
   ]
  },
  {
   "cell_type": "code",
   "execution_count": 3,
   "id": "d64c0819",
   "metadata": {},
   "outputs": [
    {
     "data": {
      "text/html": [
       "<div>\n",
       "<style scoped>\n",
       "    .dataframe tbody tr th:only-of-type {\n",
       "        vertical-align: middle;\n",
       "    }\n",
       "\n",
       "    .dataframe tbody tr th {\n",
       "        vertical-align: top;\n",
       "    }\n",
       "\n",
       "    .dataframe thead th {\n",
       "        text-align: right;\n",
       "    }\n",
       "</style>\n",
       "<table border=\"1\" class=\"dataframe\">\n",
       "  <thead>\n",
       "    <tr style=\"text-align: right;\">\n",
       "      <th></th>\n",
       "      <th>id</th>\n",
       "      <th>user_id</th>\n",
       "      <th>created_at</th>\n",
       "      <th>status</th>\n",
       "      <th>type</th>\n",
       "    </tr>\n",
       "  </thead>\n",
       "  <tbody>\n",
       "    <tr>\n",
       "      <th>0</th>\n",
       "      <td>1</td>\n",
       "      <td>100</td>\n",
       "      <td>4/21/2017</td>\n",
       "      <td>prequal_completd_offer</td>\n",
       "      <td>Refinance</td>\n",
       "    </tr>\n",
       "    <tr>\n",
       "      <th>1</th>\n",
       "      <td>2</td>\n",
       "      <td>100</td>\n",
       "      <td>4/27/2017</td>\n",
       "      <td>offer_accepted</td>\n",
       "      <td>Refinance</td>\n",
       "    </tr>\n",
       "    <tr>\n",
       "      <th>2</th>\n",
       "      <td>3</td>\n",
       "      <td>101</td>\n",
       "      <td>4/22/2017</td>\n",
       "      <td>prequal_completd_no_offer</td>\n",
       "      <td>Refinance</td>\n",
       "    </tr>\n",
       "    <tr>\n",
       "      <th>3</th>\n",
       "      <td>4</td>\n",
       "      <td>101</td>\n",
       "      <td>4/23/2017</td>\n",
       "      <td>offer_accepted</td>\n",
       "      <td>Refinance</td>\n",
       "    </tr>\n",
       "    <tr>\n",
       "      <th>4</th>\n",
       "      <td>5</td>\n",
       "      <td>101</td>\n",
       "      <td>4/25/2017</td>\n",
       "      <td>offer_accepted</td>\n",
       "      <td>Personal</td>\n",
       "    </tr>\n",
       "    <tr>\n",
       "      <th>5</th>\n",
       "      <td>6</td>\n",
       "      <td>102</td>\n",
       "      <td>4/27/2017</td>\n",
       "      <td>offer_accepted</td>\n",
       "      <td>InSchool</td>\n",
       "    </tr>\n",
       "    <tr>\n",
       "      <th>6</th>\n",
       "      <td>7</td>\n",
       "      <td>107</td>\n",
       "      <td>4/27/2017</td>\n",
       "      <td>prequal_response_received</td>\n",
       "      <td>Personal</td>\n",
       "    </tr>\n",
       "    <tr>\n",
       "      <th>7</th>\n",
       "      <td>8</td>\n",
       "      <td>108</td>\n",
       "      <td>4/21/2017</td>\n",
       "      <td>form_in_progress</td>\n",
       "      <td>Refinance</td>\n",
       "    </tr>\n",
       "    <tr>\n",
       "      <th>8</th>\n",
       "      <td>9</td>\n",
       "      <td>108</td>\n",
       "      <td>4/27/2017</td>\n",
       "      <td>offer_accepted</td>\n",
       "      <td>Refinance</td>\n",
       "    </tr>\n",
       "    <tr>\n",
       "      <th>9</th>\n",
       "      <td>10</td>\n",
       "      <td>108</td>\n",
       "      <td>4/27/2017</td>\n",
       "      <td>prequal_response_received</td>\n",
       "      <td>InSchool</td>\n",
       "    </tr>\n",
       "    <tr>\n",
       "      <th>10</th>\n",
       "      <td>11</td>\n",
       "      <td>100</td>\n",
       "      <td>4/21/2015</td>\n",
       "      <td>prequal_completd_offer</td>\n",
       "      <td>Refinance</td>\n",
       "    </tr>\n",
       "  </tbody>\n",
       "</table>\n",
       "</div>"
      ],
      "text/plain": [
       "    id  user_id created_at                     status       type\n",
       "0    1      100  4/21/2017     prequal_completd_offer  Refinance\n",
       "1    2      100  4/27/2017             offer_accepted  Refinance\n",
       "2    3      101  4/22/2017  prequal_completd_no_offer  Refinance\n",
       "3    4      101  4/23/2017             offer_accepted  Refinance\n",
       "4    5      101  4/25/2017             offer_accepted   Personal\n",
       "5    6      102  4/27/2017             offer_accepted   InSchool\n",
       "6    7      107  4/27/2017  prequal_response_received   Personal\n",
       "7    8      108  4/21/2017           form_in_progress  Refinance\n",
       "8    9      108  4/27/2017             offer_accepted  Refinance\n",
       "9   10      108  4/27/2017  prequal_response_received   InSchool\n",
       "10  11      100  4/21/2015     prequal_completd_offer  Refinance"
      ]
     },
     "execution_count": 3,
     "metadata": {},
     "output_type": "execute_result"
    }
   ],
   "source": [
    "#show\n",
    "loans"
   ]
  },
  {
   "cell_type": "markdown",
   "id": "da1f8af5",
   "metadata": {},
   "source": [
    "Write a query that returns the user ID of all users that have created at least one ‘Refinance’ submission and at least one ‘InSchool’ submission."
   ]
  },
  {
   "cell_type": "code",
   "execution_count": 4,
   "id": "dda7d86e",
   "metadata": {},
   "outputs": [
    {
     "data": {
      "text/plain": [
       "[100, 100, 101, 101, 108, 108, 100]"
      ]
     },
     "execution_count": 4,
     "metadata": {},
     "output_type": "execute_result"
    }
   ],
   "source": [
    "# create list of users that created Refinance submission\n",
    "users1 = []\n",
    "for index, row in loans.iterrows():\n",
    "    if row['type'] == 'Refinance' :\n",
    "        users1.append(row['user_id'])\n",
    "        \n",
    "#show\n",
    "users1"
   ]
  },
  {
   "cell_type": "code",
   "execution_count": 5,
   "id": "a5ca6f83",
   "metadata": {},
   "outputs": [
    {
     "data": {
      "text/plain": [
       "[102, 108]"
      ]
     },
     "execution_count": 5,
     "metadata": {},
     "output_type": "execute_result"
    }
   ],
   "source": [
    "# create list of users that created 'InSchool' submission\n",
    "users2 = []\n",
    "for index, row in loans.iterrows():\n",
    "    if row['type'] == 'InSchool':\n",
    "        users2.append(row['user_id'])\n",
    "        \n",
    "#show\n",
    "users2"
   ]
  },
  {
   "cell_type": "code",
   "execution_count": 6,
   "id": "fbef6e8f",
   "metadata": {},
   "outputs": [],
   "source": [
    "# convert lists to set to allow intersection method and also return only unique users\n",
    "users1 = set(users1)\n",
    "users2 = set(users2)\n",
    "users= users1.intersection(users2)"
   ]
  },
  {
   "cell_type": "code",
   "execution_count": 7,
   "id": "6e029edc",
   "metadata": {},
   "outputs": [],
   "source": [
    "#convert set to list\n",
    "users = list(users)"
   ]
  },
  {
   "cell_type": "code",
   "execution_count": 8,
   "id": "f949d028",
   "metadata": {},
   "outputs": [
    {
     "data": {
      "text/plain": [
       "[108]"
      ]
     },
     "execution_count": 8,
     "metadata": {},
     "output_type": "execute_result"
    }
   ],
   "source": [
    "#result\n",
    "users"
   ]
  }
 ],
 "metadata": {
  "kernelspec": {
   "display_name": "Python 3 (ipykernel)",
   "language": "python",
   "name": "python3"
  },
  "language_info": {
   "codemirror_mode": {
    "name": "ipython",
    "version": 3
   },
   "file_extension": ".py",
   "mimetype": "text/x-python",
   "name": "python",
   "nbconvert_exporter": "python",
   "pygments_lexer": "ipython3",
   "version": "3.10.9"
  }
 },
 "nbformat": 4,
 "nbformat_minor": 5
}
